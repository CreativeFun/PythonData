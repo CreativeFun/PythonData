{
  "nbformat": 4,
  "nbformat_minor": 0,
  "metadata": {
    "colab": {
      "name": "TreningPythona.ipynb",
      "provenance": [],
      "authorship_tag": "ABX9TyOh4fDDy/ne8imADQGaeQdb",
      "include_colab_link": true
    },
    "kernelspec": {
      "name": "python3",
      "display_name": "Python 3"
    },
    "language_info": {
      "name": "python"
    }
  },
  "cells": [
    {
      "cell_type": "markdown",
      "metadata": {
        "id": "view-in-github",
        "colab_type": "text"
      },
      "source": [
        "<a href=\"https://colab.research.google.com/github/CreativeFun/Training-python-repository/blob/main/TreningPythona.ipynb\" target=\"_parent\"><img src=\"https://colab.research.google.com/assets/colab-badge.svg\" alt=\"Open In Colab\"/></a>"
      ]
    },
    {
      "cell_type": "markdown",
      "source": [
        "#Excercise 17"
      ],
      "metadata": {
        "id": "yGkI2_tpu-gQ"
      }
    },
    {
      "cell_type": "code",
      "execution_count": null,
      "metadata": {
        "colab": {
          "base_uri": "https://localhost:8080/"
        },
        "id": "t441QQH5CtuP",
        "outputId": "990426ad-f297-4602-ecfb-8ce3b3819a62"
      },
      "outputs": [
        {
          "output_type": "stream",
          "name": "stdout",
          "text": [
            "D 400 W 500 D 20 W 1000\n",
            "\n",
            "-1080\n"
          ]
        }
      ],
      "source": [
        "x = input()\n",
        "y = x.split()\n",
        "transactions = []\n",
        "print()\n",
        "balance = 0\n",
        "holder = 0  \n",
        "for m in range(0,len(y)):\n",
        "  #sprawdzenie czy element jest znakiem, jeżeli tak, to trzeba W wypłacić, jezeli D to trzeba wpłacić po każdym elemencie w liście\n",
        "  if y[m].isalpha() == True:\n",
        "    if y[m] == \"D\":\n",
        "      holder  = int(y[m+1])\n",
        "      balance = balance + holder\n",
        "    else: \n",
        "      holder  = int(y[m+1])\n",
        "      balance = balance - holder\n",
        "\n",
        "print(balance)"
      ]
    },
    {
      "cell_type": "markdown",
      "source": [
        "#Excercise 18"
      ],
      "metadata": {
        "id": "ZoREn5w0vFpN"
      }
    },
    {
      "cell_type": "code",
      "source": [
        "x = input()\n",
        "y = x.split(\",\")\n",
        "sc = [\"#\", \"@\", \"$\"]\n",
        "\n",
        "for i in range(0,len(y)):\n",
        "  helper = y[i]\n",
        "  flaga = False\n",
        "  flaga2 = False\n",
        "  flaga3 = False\n",
        "  flaga4 = False\n",
        "  if len(helper) >= 6 and len(helper) <= 12:\n",
        "    for j in range(0,len(helper)):\n",
        "      if helper[j].islower():\n",
        "        flaga = True\n",
        "      elif helper[j].isupper():\n",
        "        flaga2 = True\n",
        "      elif helper[j].isdigit():\n",
        "        flaga3 = True\n",
        "      elif helper[j] in sc:\n",
        "        flaga4 = True\n",
        "  if flaga == True and flaga2 == True and flaga3 == True and flaga4 == True :\n",
        "    print(\"Hasło: \", helper, \" jest hasłem poprawnym\")"
      ],
      "metadata": {
        "colab": {
          "base_uri": "https://localhost:8080/"
        },
        "id": "E_XXzEumvpNv",
        "outputId": "0deeefdb-5397-49c4-a4df-9a23c61d2c2a"
      },
      "execution_count": null,
      "outputs": [
        {
          "output_type": "stream",
          "name": "stdout",
          "text": [
            "ABd1234@1,a   F1#,2w3E*,2We3345\n",
            "Hasło:  ABd1234@1  jest hasłem poprawnym\n",
            "Hasło:  a   F1#  jest hasłem poprawnym\n"
          ]
        }
      ]
    },
    {
      "cell_type": "markdown",
      "source": [
        "#Excerise 19"
      ],
      "metadata": {
        "id": "kTOVucl7Cv9J"
      }
    },
    {
      "cell_type": "code",
      "source": [
        "from operator import itemgetter, attrgetter\n",
        "x = []\n",
        "while(True):\n",
        "  helper = input()\n",
        "  if helper == \"\":\n",
        "    break\n",
        "  else:\n",
        "    x.append(tuple(helper.split(\",\")))\n",
        "  \n",
        "  x.sort(key=itemgetter(0,2))\n",
        "  x.sort(key=itemgetter(1), reverse=True)\n",
        "  \n",
        "\n",
        "\n",
        "print(x)"
      ],
      "metadata": {
        "colab": {
          "base_uri": "https://localhost:8080/"
        },
        "id": "LBh5t4_9Cz5o",
        "outputId": "029be6ee-0624-4007-8219-c26b20cb1f80"
      },
      "execution_count": null,
      "outputs": [
        {
          "output_type": "stream",
          "name": "stdout",
          "text": [
            "Tom,19,80\n",
            "John,20,90\n",
            "Jony,17,91\n",
            "Jony,18,93\n",
            "Json,21,85\n",
            "\n",
            "[('Json', '21', '85'), ('John', '20', '90'), ('Tom', '19', '80'), ('Jony', '18', '93'), ('Jony', '17', '91')]\n"
          ]
        }
      ]
    },
    {
      "cell_type": "markdown",
      "source": [
        "Excercise 20"
      ],
      "metadata": {
        "id": "sxUnjya7SI2B"
      }
    },
    {
      "cell_type": "code",
      "source": [
        "x = int(input())\n",
        "\n",
        "\n",
        "class Generator(list) :\n",
        "   def __init__(self,x):\n",
        "        for i in range(1,x+1):\n",
        "          if(i%7==0):\n",
        "            self.append(i)\n",
        "\n",
        "print(Generator(x))"
      ],
      "metadata": {
        "colab": {
          "base_uri": "https://localhost:8080/"
        },
        "id": "eyWa3S_WSTZm",
        "outputId": "06249df2-d8e4-4b62-b910-cd33b16c9ae6"
      },
      "execution_count": null,
      "outputs": [
        {
          "output_type": "stream",
          "name": "stdout",
          "text": [
            "21\n",
            "[7, 14, 21]\n"
          ]
        }
      ]
    },
    {
      "cell_type": "markdown",
      "source": [
        "Excercise 21"
      ],
      "metadata": {
        "id": "in3sdc1PY-s2"
      }
    },
    {
      "cell_type": "code",
      "source": [
        "x = []\n",
        "\n",
        "pos=[0,0]\n",
        "while(True):\n",
        "  helper = input()\n",
        "  if helper == \"\":\n",
        "    break\n",
        "  else:\n",
        "    x.append(tuple(helper.split(\",\")))\n",
        "\n",
        "\n",
        "for i in range (0, len(helper)):\n",
        "  if helper :\n",
        "  if:\n",
        "  if:\n",
        "  if:\n",
        "\n",
        "print(x)"
      ],
      "metadata": {
        "colab": {
          "base_uri": "https://localhost:8080/",
          "height": 128
        },
        "id": "zrdiTqumZAlr",
        "outputId": "2cfffcb3-20f3-433d-f9e5-ad49aa353bcd"
      },
      "execution_count": null,
      "outputs": [
        {
          "output_type": "error",
          "ename": "IndentationError",
          "evalue": "ignored",
          "traceback": [
            "\u001b[0;36m  File \u001b[0;32m\"<ipython-input-1-23d1b5fb174e>\"\u001b[0;36m, line \u001b[0;32m14\u001b[0m\n\u001b[0;31m    if:\u001b[0m\n\u001b[0m     ^\u001b[0m\n\u001b[0;31mIndentationError\u001b[0m\u001b[0;31m:\u001b[0m expected an indented block\n"
          ]
        }
      ]
    },
    {
      "cell_type": "markdown",
      "source": [
        "Excercise 22"
      ],
      "metadata": {
        "id": "pfR8R4_ADkHu"
      }
    },
    {
      "cell_type": "code",
      "source": [
        "import numpy as np\n",
        "x = input().split(\" \")\n",
        "\n",
        "x.sort()\n",
        "\n",
        "uniq = np.unique(x)\n",
        "\n",
        "print(x)\n",
        "\n",
        "dictOfWords = {i : 0 for i in uniq}\n",
        "\n",
        "for i in range (len(x)):\n",
        "  if x[i] in dictOfWords:\n",
        "      dictOfWords[x[i]] = dictOfWords[x[i]] + 1 \n",
        "\n",
        "print(dictOfWords)"
      ],
      "metadata": {
        "colab": {
          "base_uri": "https://localhost:8080/"
        },
        "id": "px1w0IAaDiBR",
        "outputId": "53cf7a18-b681-4093-e4e5-ee2f97c090fe"
      },
      "execution_count": null,
      "outputs": [
        {
          "output_type": "stream",
          "name": "stdout",
          "text": [
            "New to Python or choosing between Python 2 and Python 3? Read Python 2 or Python 3.\n",
            "['2', '2', '3.', '3?', 'New', 'Python', 'Python', 'Python', 'Python', 'Python', 'Read', 'and', 'between', 'choosing', 'or', 'or', 'to']\n",
            "{'2': 2, '3.': 1, '3?': 1, 'New': 1, 'Python': 5, 'Read': 1, 'and': 1, 'between': 1, 'choosing': 1, 'or': 2, 'to': 1}\n"
          ]
        }
      ]
    },
    {
      "cell_type": "markdown",
      "source": [
        "Excercise 23"
      ],
      "metadata": {
        "id": "zWf2dWMeLgot"
      }
    },
    {
      "cell_type": "code",
      "source": [
        "def squared(value):\n",
        "  return value**2\n",
        "\n",
        "x = int(input())\n",
        "\n",
        "print(squared(x))"
      ],
      "metadata": {
        "colab": {
          "base_uri": "https://localhost:8080/"
        },
        "id": "n2Jsw6J1LiCX",
        "outputId": "2ec25b90-e788-4ee4-a51a-40995ee0038d"
      },
      "execution_count": null,
      "outputs": [
        {
          "output_type": "stream",
          "name": "stdout",
          "text": [
            "22\n",
            "484\n"
          ]
        }
      ]
    },
    {
      "cell_type": "markdown",
      "source": [
        "Excercise 24"
      ],
      "metadata": {
        "id": "GqbwmNRzMSJi"
      }
    },
    {
      "cell_type": "code",
      "source": [
        "class Marta:\n",
        "    \"\"\"Your best friend.\"\"\"\n",
        "\n",
        "    def do_nothing(self):\n",
        "        pass\n",
        "\n",
        "\n",
        "print(Marta.__doc__)\n",
        "# Your best friend. "
      ],
      "metadata": {
        "colab": {
          "base_uri": "https://localhost:8080/"
        },
        "id": "QrOl9zdhMRWp",
        "outputId": "1b50d99d-5e0d-4946-a211-c1358b6958f1"
      },
      "execution_count": null,
      "outputs": [
        {
          "output_type": "stream",
          "name": "stdout",
          "text": [
            "Your best friend.\n"
          ]
        }
      ]
    },
    {
      "cell_type": "markdown",
      "source": [
        "Excercise 25"
      ],
      "metadata": {
        "id": "5-GylfE_P6Bi"
      }
    },
    {
      "cell_type": "code",
      "source": [
        "class Person:\n",
        "    # Define the class parameter \"name\"\n",
        "    name = \"Person\"\n",
        "    \n",
        "    def __init__(self, name = None):\n",
        "        # self.name is the instance parameter\n",
        "        self.name = name\n",
        "\n",
        "jeffrey = Person(\"Jeffrey\")\n",
        "print(Person.name, jeffrey.name)"
      ],
      "metadata": {
        "colab": {
          "base_uri": "https://localhost:8080/"
        },
        "id": "nAQQHqcJM58F",
        "outputId": "6d0daa3e-3bf5-4e61-e591-20e6f73c6f10"
      },
      "execution_count": null,
      "outputs": [
        {
          "output_type": "stream",
          "name": "stdout",
          "text": [
            "Person Jeffrey\n"
          ]
        }
      ]
    },
    {
      "cell_type": "markdown",
      "source": [
        "Excercise 26 (Define a function which can compute the sum of two numbers.)"
      ],
      "metadata": {
        "id": "An7eyBQERvrD"
      }
    },
    {
      "cell_type": "code",
      "source": [
        "def dodawanie(a,b):\n",
        "  return a+b\n",
        "\n",
        "val1 = int(input())\n",
        "\n",
        "val2 = int(input())\n",
        "\n",
        "print(dodawanie(val1,val2))"
      ],
      "metadata": {
        "colab": {
          "base_uri": "https://localhost:8080/"
        },
        "id": "KN8kU-Q8R7mB",
        "outputId": "a405abba-332d-4239-88b1-2e0212344688"
      },
      "execution_count": null,
      "outputs": [
        {
          "output_type": "stream",
          "name": "stdout",
          "text": [
            "24\n",
            "25\n",
            "49\n"
          ]
        }
      ]
    },
    {
      "cell_type": "code",
      "source": [
        "def capital_indexes(val1):\n",
        "    helplist = []\n",
        "    for i in range(len(val1)):\n",
        "        if val1[i].isupper():\n",
        "            helplist.append(i)\n",
        "    return(helplist)"
      ],
      "metadata": {
        "id": "v0-i6afuw8KZ"
      },
      "execution_count": null,
      "outputs": []
    },
    {
      "cell_type": "code",
      "source": [
        "def mid(val1):\n",
        "    x = float(len(val1))\n",
        "    val2 = \"\"\n",
        "    if x%2 !=0:\n",
        "        val2 = val1[int(x/2)]\n",
        "    return val2"
      ],
      "metadata": {
        "id": "5AVLHNILw8bC"
      },
      "execution_count": null,
      "outputs": []
    },
    {
      "cell_type": "code",
      "source": [
        "def online_count(dictofwords):\n",
        "    iterator = 0\n",
        "    for value in dictofwords.values():\n",
        "        if value == \"online\":\n",
        "            iterator = iterator + 1\n",
        "        \n",
        "    return iterator"
      ],
      "metadata": {
        "id": "svUaeaALw8dF"
      },
      "execution_count": null,
      "outputs": []
    },
    {
      "cell_type": "code",
      "source": [
        "import random\n",
        "\n",
        "def random_number():\n",
        "    n = random.randint(1,100)\n",
        "    return n"
      ],
      "metadata": {
        "id": "2NJdVT5yw8fR"
      },
      "execution_count": null,
      "outputs": []
    },
    {
      "cell_type": "code",
      "source": [
        "def only_ints(val1,val2):\n",
        "    flag = False\n",
        "    if type(val1)==int and type(val2)==int:\n",
        "        flag = True\n",
        "    return flag\n",
        "    "
      ],
      "metadata": {
        "id": "nHsAiQldw8hP"
      },
      "execution_count": null,
      "outputs": []
    },
    {
      "cell_type": "code",
      "source": [
        "def double_letters(val1):\n",
        "    flaga = False\n",
        "    for i in range(len(val1)):\n",
        "        if(val1[i-1] == val1[i]):\n",
        "            flaga = True\n",
        "            break\n",
        "        \n",
        "    return flaga"
      ],
      "metadata": {
        "id": "hNAgsIKSw8jQ"
      },
      "execution_count": null,
      "outputs": []
    },
    {
      "cell_type": "code",
      "source": [
        ""
      ],
      "metadata": {
        "id": "shlXEoE4xGMI"
      },
      "execution_count": null,
      "outputs": []
    },
    {
      "cell_type": "code",
      "source": [
        ""
      ],
      "metadata": {
        "id": "iYN0NF8dxGOI"
      },
      "execution_count": null,
      "outputs": []
    },
    {
      "cell_type": "code",
      "source": [
        ""
      ],
      "metadata": {
        "id": "DtFO5bKxxGP4"
      },
      "execution_count": null,
      "outputs": []
    },
    {
      "cell_type": "code",
      "source": [
        ""
      ],
      "metadata": {
        "id": "-UgziBTjxGTZ"
      },
      "execution_count": null,
      "outputs": []
    }
  ]
}