{
  "nbformat": 4,
  "nbformat_minor": 0,
  "metadata": {
    "colab": {
      "name": "TreningPythona.ipynb",
      "provenance": [],
      "authorship_tag": "ABX9TyM806HatBaOh6dsRA+iwqwv",
      "include_colab_link": true
    },
    "kernelspec": {
      "name": "python3",
      "display_name": "Python 3"
    },
    "language_info": {
      "name": "python"
    }
  },
  "cells": [
    {
      "cell_type": "markdown",
      "metadata": {
        "id": "view-in-github",
        "colab_type": "text"
      },
      "source": [
        "<a href=\"https://colab.research.google.com/github/CreativeFun/Training-python-repository/blob/main/TreningPythona.ipynb\" target=\"_parent\"><img src=\"https://colab.research.google.com/assets/colab-badge.svg\" alt=\"Open In Colab\"/></a>"
      ]
    },
    {
      "cell_type": "markdown",
      "source": [
        "#Excercise 17"
      ],
      "metadata": {
        "id": "yGkI2_tpu-gQ"
      }
    },
    {
      "cell_type": "code",
      "execution_count": null,
      "metadata": {
        "colab": {
          "base_uri": "https://localhost:8080/"
        },
        "id": "t441QQH5CtuP",
        "outputId": "990426ad-f297-4602-ecfb-8ce3b3819a62"
      },
      "outputs": [
        {
          "output_type": "stream",
          "name": "stdout",
          "text": [
            "D 400 W 500 D 20 W 1000\n",
            "\n",
            "-1080\n"
          ]
        }
      ],
      "source": [
        "x = input()\n",
        "y = x.split()\n",
        "transactions = []\n",
        "print()\n",
        "balance = 0\n",
        "holder = 0  \n",
        "for m in range(0,len(y)):\n",
        "  #sprawdzenie czy element jest znakiem, jeżeli tak, to trzeba W wypłacić, jezeli D to trzeba wpłacić po każdym elemencie w liście\n",
        "  if y[m].isalpha() == True:\n",
        "    if y[m] == \"D\":\n",
        "      holder  = int(y[m+1])\n",
        "      balance = balance + holder\n",
        "    else: \n",
        "      holder  = int(y[m+1])\n",
        "      balance = balance - holder\n",
        "\n",
        "print(balance)"
      ]
    },
    {
      "cell_type": "markdown",
      "source": [
        "#Excercise 18"
      ],
      "metadata": {
        "id": "ZoREn5w0vFpN"
      }
    },
    {
      "cell_type": "code",
      "source": [
        "x = input()\n",
        "y = x.split(\",\")\n",
        "sc = [\"#\", \"@\", \"$\"]\n",
        "\n",
        "for i in range(0,len(y)):\n",
        "  helper = y[i]\n",
        "  flaga = False\n",
        "  flaga2 = False\n",
        "  flaga3 = False\n",
        "  flaga4 = False\n",
        "  if len(helper) >= 6 and len(helper) <= 12:\n",
        "    for j in range(0,len(helper)):\n",
        "      if helper[j].islower():\n",
        "        flaga = True\n",
        "      elif helper[j].isupper():\n",
        "        flaga2 = True\n",
        "      elif helper[j].isdigit():\n",
        "        flaga3 = True\n",
        "      elif helper[j] in sc:\n",
        "        flaga4 = True\n",
        "  if flaga == True and flaga2 == True and flaga3 == True and flaga4 == True :\n",
        "    print(\"Hasło: \", helper, \" jest hasłem poprawnym\")"
      ],
      "metadata": {
        "colab": {
          "base_uri": "https://localhost:8080/"
        },
        "id": "E_XXzEumvpNv",
        "outputId": "0deeefdb-5397-49c4-a4df-9a23c61d2c2a"
      },
      "execution_count": null,
      "outputs": [
        {
          "output_type": "stream",
          "name": "stdout",
          "text": [
            "ABd1234@1,a   F1#,2w3E*,2We3345\n",
            "Hasło:  ABd1234@1  jest hasłem poprawnym\n",
            "Hasło:  a   F1#  jest hasłem poprawnym\n"
          ]
        }
      ]
    },
    {
      "cell_type": "markdown",
      "source": [
        "#Excerise 19"
      ],
      "metadata": {
        "id": "kTOVucl7Cv9J"
      }
    },
    {
      "cell_type": "code",
      "source": [
        "from operator import itemgetter, attrgetter\n",
        "x = []\n",
        "while(True):\n",
        "  helper = input()\n",
        "  if helper == \"\":\n",
        "    break\n",
        "  else:\n",
        "    x.append(tuple(helper.split(\",\")))\n",
        "  \n",
        "  x.sort(key=itemgetter(0,2))\n",
        "  x.sort(key=itemgetter(1), reverse=True)\n",
        "  \n",
        "\n",
        "\n",
        "print(x)"
      ],
      "metadata": {
        "colab": {
          "base_uri": "https://localhost:8080/"
        },
        "id": "LBh5t4_9Cz5o",
        "outputId": "029be6ee-0624-4007-8219-c26b20cb1f80"
      },
      "execution_count": null,
      "outputs": [
        {
          "output_type": "stream",
          "name": "stdout",
          "text": [
            "Tom,19,80\n",
            "John,20,90\n",
            "Jony,17,91\n",
            "Jony,18,93\n",
            "Json,21,85\n",
            "\n",
            "[('Json', '21', '85'), ('John', '20', '90'), ('Tom', '19', '80'), ('Jony', '18', '93'), ('Jony', '17', '91')]\n"
          ]
        }
      ]
    }
  ]
}